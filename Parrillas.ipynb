{
  "cells": [
    {
      "cell_type": "markdown",
      "metadata": {
        "id": "view-in-github",
        "colab_type": "text"
      },
      "source": [
        "<a href=\"https://colab.research.google.com/github/Albieri-Ray/Banco_BBVA/blob/main/Parrillas.ipynb\" target=\"_parent\"><img src=\"https://colab.research.google.com/assets/colab-badge.svg\" alt=\"Open In Colab\"/></a>"
      ]
    },
    {
      "cell_type": "markdown",
      "metadata": {
        "id": "Tba5NDgyY4be"
      },
      "source": [
        "#Parrilla Incentivación"
      ]
    },
    {
      "cell_type": "markdown",
      "metadata": {
        "id": "kA7tQ595bPfe"
      },
      "source": [
        "Cargar la información en el dataframe"
      ]
    },
    {
      "cell_type": "code",
      "execution_count": null,
      "metadata": {
        "colab": {
          "base_uri": "https://localhost:8080/",
          "height": 35
        },
        "id": "Ri3s8XG4xg8A",
        "outputId": "4a46146a-cece-438d-c58f-c698345ece84"
      },
      "outputs": [
        {
          "output_type": "execute_result",
          "data": {
            "text/plain": [
              "'/content/Parrilla_BCOM_Final.xlsx'"
            ],
            "application/vnd.google.colaboratory.intrinsic+json": {
              "type": "string"
            }
          },
          "metadata": {},
          "execution_count": 4
        }
      ],
      "source": [
        "import pandas as pd\n",
        "\n",
        "# Carga del archivo Excel \"Parrilla.xlsx\"\n",
        "parrilla_df = pd.read_excel('/content/Parrilla.xlsx', sheet_name='parrilla')\n",
        "extrabono_df = pd.read_excel('/content/Parrilla.xlsx', sheet_name='extrabono')\n",
        "\n",
        "# Renombrar las columnas para que coincidan la estructura\n",
        "parrilla_df.columns = [col.replace(\" \", \"_\").upper() for col in parrilla_df.columns]\n",
        "extrabono_df.columns = [col.replace(\" \", \"_\").upper() for col in extrabono_df.columns]\n",
        "\n",
        "# Crear la tabla temporal TMP_PARRILLA\n",
        "tmp_parrilla_df = parrilla_df.melt(id_vars=['N', 'INDICADOR', 'NOMENCLATURA'],\n",
        "                                   var_name='PERFIL', value_name='PESO')\n",
        "\n",
        "# Filtrar filas con valores nulos en PESO\n",
        "tmp_parrilla_df = tmp_parrilla_df.dropna(subset=['PESO'])\n",
        "\n",
        "# Creando la columna Periodo con parametro\n",
        "tmp_parrilla_df['PERIODO'] = '202406'  # Utilizar un valor fijo para PERIODO, esto puede ser parametrizado\n",
        "\n",
        "# Asignar un valor de 99 al orden cuando el peso sea 0, y el valor de N en caso contrario\n",
        "tmp_parrilla_df['ORDEN_PESO'] = tmp_parrilla_df.apply(lambda row: 99 if row['PESO'] == 0 else row['N'], axis=1)\n",
        "\n",
        "# Ordenar los datos por PERFIL y ORDEN_PESO (los de peso 0 al final)\n",
        "tmp_parrilla_df = tmp_parrilla_df.sort_values(by=['ORDEN_PESO', 'PESO'], ascending=[True, False])\n",
        "\n",
        "# Asignar el orden consecutivo por perfil\n",
        "tmp_parrilla_df['ORDEN'] = tmp_parrilla_df.groupby('PERFIL').cumcount() + 1\n",
        "\n",
        "# Función de la columna TIPO\n",
        "def tipo_indicador(indicador, perfil):\n",
        "    if indicador in ['CA', 'MIGTRA', 'CAPYMEOF', 'CAPYME', 'CAPN','TNMONE']:\n",
        "        return 'I'\n",
        "    elif indicador == 'TESP':\n",
        "        return 'T'\n",
        "    elif indicador in ['PARF', 'FUNICO', 'CSAM']:\n",
        "        return 'S'\n",
        "    elif indicador == 'EU':\n",
        "        return 'B1'\n",
        "    elif indicador in ['CAPEJE', 'CAPEJECORE', 'CAPOFI', 'CAPOFIEJEC', 'QUIADI', 'ROTAS'] or (indicador == 'CAPAS' and (perfil == 'SGO3' or perfil.startswith('GOF'))):\n",
        "        return 'B2'\n",
        "    elif indicador in ['PENCA','B_CONS','B_PYME']:\n",
        "        return 'B3'\n",
        "    elif indicador == 'QDACHMP':\n",
        "        return 'B5'\n",
        "    else:\n",
        "        return 'D'\n",
        "\n",
        "tmp_parrilla_df['TIPO'] = tmp_parrilla_df.apply(lambda row: tipo_indicador(row['NOMENCLATURA'], row['PERFIL']), axis=1)\n",
        "\n",
        "# Merge con la tabla de extrabono para la salida final\n",
        "parrilla_bcom_df = tmp_parrilla_df.merge(extrabono_df, left_on=['PERFIL', 'NOMENCLATURA'], right_on=['PARRILLA', 'NOMENCLATURA'], how='left')\n",
        "\n",
        "def tipo_umbral(indicador, umbral1):\n",
        "    umbral1 = umbral1 if not pd.isna(umbral1) else 0\n",
        "    if indicador == 'VINTAR' and (umbral1 < 100 and umbral1 > 0):\n",
        "        return 'TRN'\n",
        "    elif indicador == 'RTT':\n",
        "        if umbral1 < 30 and umbral1 > 0:\n",
        "            return 'TRN2'\n",
        "        else:\n",
        "            return 'POR'\n",
        "    elif indicador == 'FTHIP' and umbral1 > 0:\n",
        "        return 'TRN3'\n",
        "    elif indicador.startswith('NPOS') and (umbral1 < 100 and umbral1 > 0):\n",
        "        return 'RES'\n",
        "    elif indicador == 'QUINAHO' and umbral1 != 0:\n",
        "        return 'NRO'\n",
        "    elif umbral1 < 100 and umbral1 > 0:\n",
        "        return 'NRO'\n",
        "    elif umbral1 >= 100:\n",
        "        return 'POR'\n",
        "    else:\n",
        "        return ''\n",
        "\n",
        "parrilla_bcom_df['TIPO_UMBRAL'] = parrilla_bcom_df.apply(lambda row: tipo_umbral(row['NOMENCLATURA'], row['UMBRAL1']), axis=1)\n",
        "\n",
        "# Añadir las columnas faltantes con valores flat\n",
        "parrilla_bcom_df['CORE'] = 'NO'\n",
        "parrilla_bcom_df['F1'] = 0.9\n",
        "\n",
        "# Lógica para actualizar la columna CORE\n",
        "core_pj = ['FACTVAPENPNNPJ','VARSPVAPJOFIPEN','FTPYME','NTKT','SEG','STOCKNOM','NPOSEBN','FACTVAPNNPJ','VARSMVAPJPENDOL','NCLNUE']\n",
        "parrilla_bcom_df.loc[(parrilla_bcom_df['PERFIL'].str.contains('EBN')) & (parrilla_bcom_df['NOMENCLATURA'].isin(core_pj)), 'CORE'] = 'SI'\n",
        "\n",
        "core_pn = ['FACTFFMMPLZ','FTPLDVEH','NTC','SEG','SPVAAS','FTCNVA']\n",
        "parrilla_bcom_df.loc[(parrilla_bcom_df['PERFIL'].str.contains('EBP') | parrilla_bcom_df['PERFIL'].str.contains('AS')) & (parrilla_bcom_df['NOMENCLATURA'].isin(core_pn)), 'CORE'] = 'SI'\n",
        "\n",
        "# Reemplazar valores NaN en la columna 'INDICADOR' con '-'\n",
        "parrilla_bcom_df.loc[parrilla_bcom_df['INDICADOR'].str.startswith(' '), 'INDICADOR'] = '- ' + parrilla_bcom_df['INDICADOR'].str.strip()\n",
        "\n",
        "# Reemplazar guiones bajos por espacios en el campo PERFIL\n",
        "parrilla_bcom_df['PERFIL'] = parrilla_bcom_df['PERFIL'].str.replace('_', ' ')\n",
        "\n",
        "# Ordenar las columnas con el formato\n",
        "parrilla_bcom_final = parrilla_bcom_df[['PERIODO', 'PERFIL', 'INDICADOR', 'NOMENCLATURA', 'PESO', 'ORDEN', 'TIPO', 'TIPO_UMBRAL',\n",
        "                                        'UMBRAL1', 'UMBRAL2', 'UMBRAL3', 'UMBRAL4', 'PREMIO1', 'PREMIO2', 'PREMIO3', 'PREMIO4', 'TRAMO',\n",
        "                                        'MAXIMO', 'CORE', 'F1']]\n",
        "\n",
        "\n",
        "# Guarda el dataframe en un archivo Excel\n",
        "salida_parrilla = '/content/Parrilla_BCOM_Final.xlsx'\n",
        "parrilla_bcom_final.to_excel(salida_parrilla, index=False)\n",
        "\n",
        "salida_parrilla\n"
      ]
    }
  ],
  "metadata": {
    "colab": {
      "provenance": [],
      "authorship_tag": "ABX9TyOBvlJwp20IvdZyF2KGcBse",
      "include_colab_link": true
    },
    "kernelspec": {
      "display_name": "Python 3",
      "name": "python3"
    },
    "language_info": {
      "name": "python"
    }
  },
  "nbformat": 4,
  "nbformat_minor": 0
}